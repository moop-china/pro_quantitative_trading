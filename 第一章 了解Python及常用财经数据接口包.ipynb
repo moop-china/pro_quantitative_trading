{
 "cells": [
  {
   "cell_type": "markdown",
   "metadata": {},
   "source": [
    "# 实验 1 了解Python及常用财经数据接口包\n",
    "\n",
    "## 背景介绍：\n",
    "\n",
    "Python是一种计算机程序设计语言，它诞生于20世纪90年代初，正在逐渐被广泛运用中。\n",
    "\n",
    "Python的创始人是Guido van Rossum。相传，1989年圣诞节期间，在荷兰阿姆斯特丹，Guido为打发无聊的圣诞节，决心开发一个新的脚本解释程序，作为ABC语言的一种继承。在为这种新语言起名字时，他想到了自己喜欢的喜剧团体Monty Python，于是将这种语言起名为Python。\n",
    "\n",
    "ABC语言是由Guido参与设计的一种教学语言。Guido是非常喜欢这种语言的，优美而强大。但ABC并没有取得Guido想像中的成功，Guido将其归因于它的非开放，所以，Guido决心让Python成为一种开放的程序设计语言。\n",
    "\n",
    "就这样，Python诞生了。Python的发展，还受到了一些其他语言的影响，正逐步成为最受欢迎的程序设计语言之一。现在，全世界差不多有600多种编程语言，但流行的也就那么20来种。自2004年以后，Python的使用率飞速增长，在2011年1月，它被TIOBE编程语言排行榜评为2010年度语言。\n",
    "\n",
    "由于Python的简洁性、易读性以及可扩展性，在国外用Python做科学计算的研究机构日益增多，众多开源的科学计算软件包都提供了Python的调用接口，而Python专用的科学计算扩展库也越来越多，如Numpy、SciPy、matplotlib等，它们为Python提供了非常强大的功能，这也得益于这是一种开放的程序设计语言。\n",
    "\n",
    "设计者在开发时，遵循了一种指导思想：对于一个特定的问题，只要有一种最好的方法来解决就好了。这种思想和Perl语言截然相反。设计者特意为Python设计了限制性很强的语法，使得不好的编程习惯都不能通过编译，比如其缩进规则。这带来了它和其他大多数语言的区别：一个模块的界限，完全是由每行前的缩进来决定的，这一点曾引起过争议，反对者认为语言的含义与字符的排版分离是一种进步，Python在这一点完全是开倒车。但也不可否认的是，Python确实因此使其程序变得更加清晰和美观。通常，完成同一个任务，C语言可能需要写1000行，Java只需要写100行，而Python可能只要20行。当然，此时，C程序可能需要运行1秒钟，Java程序可能需要运行2秒钟，而Python程序可能就需要10秒。\n",
    "\n",
    "Python的设计者总是尽量避开不成熟或不重要的优化，他们认为，根据二八定律，大多数程序对速度要求并不高，所以并不需要特别的优化。而对于运行速度要求高的那部分程序，Python的设计者提供了调用C/C++的接口，让Python可以调用C/C++来运行这部分程序。\n",
    "\n",
    "Python是完全面向对象的语言。函数、模块、数字、字符串都是对象。并且完全迟滞继承、重载、派生、多继承。它也是一种脚本语言，尽管更高级。它的支持者更喜欢把它称为一种“高级动态编程语言”，以和“脚本语言”相区分。\n",
    "\n",
    "从2006年起，Google开始大力支持Python的发展，很多优秀的项目开始使用Python，在这个过程中，产生了大量的Python指南和教程以及支持工具，这也帮助了更多开发人员加入到Python的开发着阵营中。同时，这也暗示着，连Google都在大规模使用的程序设计语言，你学会之后，一定能有用武之地的。\n",
    "\n",
    "Python的快速发展和AI的快速发展处于同一时期，这使得Python拥有非常多而且非常强大的AI库，这使得它成为了AI时代最流行的程序设计语言之一。\n",
    "\n",
    "不仅如此，许多大型网站也是用Python开发的，例如YouTube、豆瓣等。除Google外，Yahoo、NASA（美国航空航天局）也都在大量使用Python。\n",
    "\n",
    "所以，准备好了吗？我们要开始了解Python和常用的财经数据接口包了。\n",
    "\n",
    "## 实验过程：\n",
    "\n",
    "1. 了解python和python的安装\n",
    "2. 学习python基本语法\n",
    "3. 了解tushare包\n",
    "\n",
    "## 实验目标：\n",
    "\n",
    "1. 了解Python的基本使用\n",
    "2. 了解常用财经数据接口包\n",
    "\n",
    "## 预期结果：\n",
    "\n",
    "通过对演示代码的运行，了解基本的python语法和使用，了解基本的金融接口包。\n",
    "\n",
    "## 作业\n",
    "\n",
    "尝试自己写一段python代码，达到自己想要的效果。\n"
   ]
  },
  {
   "cell_type": "markdown",
   "metadata": {},
   "source": [
    "## 1.2 软件及软件包的安装\n",
    "\n",
    "我们在安装Jupyter Notebook时，如果是通过Anaconda安装的，那么Python以及常用的包，都已经安装在我们电脑上了。\n",
    "\n",
    "我们现在需要安装的，是财经数据接口包——TuShare。它是一个免费、开源的Python财经数据接口包。主要实现对股票等金融数据从数据采集、清洗加工到数据储存的过程，能够为金融分析人员提供快速、整洁、和多样的便于分析的数据，为他们在数据获取方面极大地减轻工作量，使他们更加专注于策略和模型的研究与实现上。考虑到Python pandas包在金融量化分析中体现出的优势，Tushare返回的绝大部分的数据格式都是pandas DataFrame类型，非常便于用pandas/NumPy/Matplotlib进行数据分析和可视化。\n",
    "\n",
    "下载安装方式：pip install tushare 或访问https://pypi.python.org/pypi/Tushare/ 下载安装\n",
    "\n",
    "版本升级：pip install tushare --upgrade\n",
    "\n",
    "## 1.3 Python基础\n",
    "\n",
    "我们知道，任何程序设计语言的第一步，就是学会打印“hello, world!”。我们也不例外："
   ]
  },
  {
   "cell_type": "code",
   "execution_count": 1,
   "metadata": {},
   "outputs": [
    {
     "name": "stdout",
     "output_type": "stream",
     "text": [
      "hello, world!\n"
     ]
    }
   ],
   "source": [
    "print('hello, world!')"
   ]
  },
  {
   "cell_type": "markdown",
   "metadata": {},
   "source": [
    "Python对中文处理也较为友好，我们可以打印“你好，世界！”来体验一下："
   ]
  },
  {
   "cell_type": "code",
   "execution_count": 2,
   "metadata": {},
   "outputs": [
    {
     "name": "stdout",
     "output_type": "stream",
     "text": [
      "你好，世界！\n"
     ]
    }
   ],
   "source": [
    "print('你好，世界！')"
   ]
  },
  {
   "cell_type": "markdown",
   "metadata": {},
   "source": [
    "### 1.3.1 标识符与缩进\n",
    "\n",
    "Python的变量名、函数名等标识符是由字母、数字、下划线组成的。\n",
    "字母大小写敏感。数字不能作为标识符的开头。\n",
    "\n",
    "以下划线开头的标识符是有特殊意义的。\n",
    "以单下划线开头的标识符代表不能直接访问的类属性，例如_foo；\n",
    "以双下划线开头的标识符代表类的私有成员，例如__foo；\n",
    "以双下划线开头并且以双下划线结尾的标识符代表Python里特殊方法专用的标识，例如__init__()代表类的构造函数。\n",
    "\n",
    "Python中有以下保留字符，它们不能作为任何标识符名称：\n",
    "and/exec/not/assert/finally/or/break/for/pass/class/from/print/continue/global/raise/def/if/return/del/import/try/elif/in/while/else/is/with/except/lambda/yield\n",
    "\n",
    "Python使用缩进来写模块，这是它的特色："
   ]
  },
  {
   "cell_type": "code",
   "execution_count": 3,
   "metadata": {},
   "outputs": [
    {
     "name": "stdout",
     "output_type": "stream",
     "text": [
      "True!\n"
     ]
    }
   ],
   "source": [
    "if True:\n",
    "    print('True!')\n",
    "else:\n",
    "    print('False!')"
   ]
  },
  {
   "cell_type": "markdown",
   "metadata": {},
   "source": [
    "如果不严格执行缩进，则会出现错误提醒："
   ]
  },
  {
   "cell_type": "code",
   "execution_count": 4,
   "metadata": {},
   "outputs": [
    {
     "ename": "IndentationError",
     "evalue": "expected an indented block (<ipython-input-4-ae6aeb2ca497>, line 4)",
     "output_type": "error",
     "traceback": [
      "\u001b[0;36m  File \u001b[0;32m\"<ipython-input-4-ae6aeb2ca497>\"\u001b[0;36m, line \u001b[0;32m4\u001b[0m\n\u001b[0;31m    print('False!')\u001b[0m\n\u001b[0m        ^\u001b[0m\n\u001b[0;31mIndentationError\u001b[0m\u001b[0;31m:\u001b[0m expected an indented block\n"
     ]
    }
   ],
   "source": [
    "if True:\n",
    "    print('True!')\n",
    "else:\n",
    "print('False!')"
   ]
  },
  {
   "cell_type": "markdown",
   "metadata": {},
   "source": [
    "### 1.3.2 分行\n",
    "\n",
    "Python把新行作为语句的结束符。但如果实在需要把一条语句分为多行来写，可以使用斜杠（\\）来分行："
   ]
  },
  {
   "cell_type": "code",
   "execution_count": 5,
   "metadata": {},
   "outputs": [
    {
     "name": "stdout",
     "output_type": "stream",
     "text": [
      "15\n"
     ]
    }
   ],
   "source": [
    "x = 1 + 2 + \\\n",
    "3 + 4 \\\n",
    "+ 5\n",
    "print(x)"
   ]
  },
  {
   "cell_type": "markdown",
   "metadata": {},
   "source": [
    "如果分行时，语句处于[],{},()中，就不需要使用斜杠："
   ]
  },
  {
   "cell_type": "code",
   "execution_count": 6,
   "metadata": {},
   "outputs": [
    {
     "name": "stdout",
     "output_type": "stream",
     "text": [
      "15\n"
     ]
    }
   ],
   "source": [
    "print(1 + 2 + \n",
    "     3 + 4\n",
    "     + 5)"
   ]
  },
  {
   "cell_type": "markdown",
   "metadata": {},
   "source": [
    "Python也可以在同一行中写入多条语句："
   ]
  },
  {
   "cell_type": "code",
   "execution_count": 7,
   "metadata": {},
   "outputs": [
    {
     "name": "stdout",
     "output_type": "stream",
     "text": [
      "9\n"
     ]
    }
   ],
   "source": [
    "x = 1 + 2; y = x * x; print(y)"
   ]
  },
  {
   "cell_type": "markdown",
   "metadata": {},
   "source": [
    "### 1.3.2 引号与注释\n",
    "\n",
    "Python可以使用单引号（'）、双引号（\"）、三引号（'''或\"\"\"）来表示字符串，引号的开始与结束必须是相同类型。\n",
    "其中，三引号可以由多行组成，常用于文档字符串，也被当作大段注释使用。"
   ]
  },
  {
   "cell_type": "code",
   "execution_count": 8,
   "metadata": {},
   "outputs": [
    {
     "name": "stdout",
     "output_type": "stream",
     "text": [
      "hello\n",
      "world\n",
      "hello\n",
      "my\n",
      "world\n"
     ]
    }
   ],
   "source": [
    "x = 'hello'\n",
    "y = \"world\"\n",
    "z = '''hello\n",
    "my\n",
    "world'''\n",
    "print(x)\n",
    "print(y)\n",
    "print(z)"
   ]
  },
  {
   "cell_type": "markdown",
   "metadata": {},
   "source": [
    "Python中的单行语句的注释则是使用#开头："
   ]
  },
  {
   "cell_type": "code",
   "execution_count": 9,
   "metadata": {},
   "outputs": [
    {
     "name": "stdout",
     "output_type": "stream",
     "text": [
      "hello, world 1!\n",
      "hello, world 2!\n",
      "hello, world 3!\n"
     ]
    }
   ],
   "source": [
    "#本程序由xxx完成，注释一\n",
    "print(\"hello, world 1!\")#这是注释二\n",
    "\"\"\"\n",
    "这是注释三\n",
    "\"\"\"\n",
    "print(\"hello, world 2!\")\n",
    "'''\n",
    "这是注释四\n",
    "'''\n",
    "print(\"hello, world 3!\")"
   ]
  },
  {
   "cell_type": "markdown",
   "metadata": {},
   "source": [
    "### 1.3.3 运算符\n",
    "\n",
    "Python提供常见的数学运算："
   ]
  },
  {
   "cell_type": "code",
   "execution_count": 10,
   "metadata": {},
   "outputs": [
    {
     "name": "stdout",
     "output_type": "stream",
     "text": [
      "6\n",
      "5\n",
      "35\n",
      "17.5\n",
      "2\n",
      "11\n",
      "121\n"
     ]
    }
   ],
   "source": [
    "x = 1 + 2 + 3\n",
    "y = x - 1\n",
    "z = x * y + y\n",
    "u = z / 2\n",
    "v = z % 3\n",
    "w = z // 3\n",
    "r = w ** 2\n",
    "print(x, y, z, u, v, w, r, sep='\\n')"
   ]
  },
  {
   "cell_type": "markdown",
   "metadata": {},
   "source": [
    "Python也提供赋值运算符："
   ]
  },
  {
   "cell_type": "code",
   "execution_count": 11,
   "metadata": {},
   "outputs": [
    {
     "name": "stdout",
     "output_type": "stream",
     "text": [
      "3\n",
      "5\n",
      "4\n",
      "20\n",
      "9\n",
      "3\n",
      "1.5\n",
      "2.25\n"
     ]
    }
   ],
   "source": [
    "a = 1 + 2\n",
    "print(a)\n",
    "a += 2\n",
    "print(a)\n",
    "a -= 1\n",
    "print(a)\n",
    "a *= 5\n",
    "print(a)\n",
    "a %= 11\n",
    "print(a)\n",
    "a //= 3\n",
    "print(a)\n",
    "a /= 2\n",
    "print(a)\n",
    "a **= 2\n",
    "print(a)"
   ]
  },
  {
   "cell_type": "markdown",
   "metadata": {},
   "source": [
    "Python也提供比较运算符："
   ]
  },
  {
   "cell_type": "code",
   "execution_count": 12,
   "metadata": {},
   "outputs": [
    {
     "name": "stdout",
     "output_type": "stream",
     "text": [
      "True\n",
      "True\n",
      "True\n",
      "False\n",
      "False\n",
      "True\n"
     ]
    }
   ],
   "source": [
    "print(1 == 1)\n",
    "print(2 != 3)\n",
    "print(2 < 3)\n",
    "print(2 > 3)\n",
    "print(2 >= 3)\n",
    "print(2 <= 3)"
   ]
  },
  {
   "cell_type": "markdown",
   "metadata": {},
   "source": [
    "Python也提供逻辑运算符："
   ]
  },
  {
   "cell_type": "code",
   "execution_count": 13,
   "metadata": {},
   "outputs": [
    {
     "name": "stdout",
     "output_type": "stream",
     "text": [
      "False\n",
      "True\n",
      "False\n"
     ]
    }
   ],
   "source": [
    "print(2 > 1 and 3 < 2)\n",
    "print(4 > 5 or 4 < 5)\n",
    "print(not 3 > 2)"
   ]
  },
  {
   "cell_type": "markdown",
   "metadata": {},
   "source": [
    "Python还支持集合成员运算符："
   ]
  },
  {
   "cell_type": "code",
   "execution_count": 14,
   "metadata": {},
   "outputs": [
    {
     "name": "stdout",
     "output_type": "stream",
     "text": [
      "True\n",
      "True\n"
     ]
    }
   ],
   "source": [
    "a = 10\n",
    "b = 5\n",
    "list = [1, 2, 3, 4, 5]\n",
    "print(b in list)\n",
    "print(a not in list)"
   ]
  },
  {
   "cell_type": "markdown",
   "metadata": {},
   "source": [
    "Python还支持身份运算符："
   ]
  },
  {
   "cell_type": "code",
   "execution_count": 15,
   "metadata": {},
   "outputs": [
    {
     "name": "stdout",
     "output_type": "stream",
     "text": [
      "True\n",
      "False\n",
      "True\n"
     ]
    }
   ],
   "source": [
    "a = 10\n",
    "b = 10\n",
    "print(a is b)\n",
    "print(a is not b)\n",
    "print(a == b)"
   ]
  },
  {
   "cell_type": "markdown",
   "metadata": {},
   "source": [
    "Python运算符优先级顺序如下：\n",
    "1. 乘方\n",
    "2. 一元加减\n",
    "3. 乘除，取模，整除\n",
    "4. 二元加减\n",
    "5. 大小比较\n",
    "6. 等于/不等于\n",
    "7. 赋值运算符\n",
    "8. 身份运算符\n",
    "9. 集合成员运算符\n",
    "10. 逻辑运算符\n",
    "\n",
    "## 1.4 Python的数据类型与数据结构\n",
    "\n",
    "Python的常见数据类型有：整数、浮点数、字符串。\n",
    "其中，字符串也可以看作数据结构。\n",
    "\n",
    "Python中常见数据结构有：列表、元组、字典。\n",
    "\n",
    "### 1.4.1 字符串\n",
    "Python提供了如下字符串的操作："
   ]
  },
  {
   "cell_type": "code",
   "execution_count": 16,
   "metadata": {},
   "outputs": [
    {
     "name": "stdout",
     "output_type": "stream",
     "text": [
      "H\n",
      "el\n",
      "Hello, MoonLight!\n",
      "Hello, World!Hello, World!\n",
      "True\n"
     ]
    }
   ],
   "source": [
    "s = 'Hello, World!'\n",
    "print(s[0])\n",
    "print(s[1:3])\n",
    "print(s[:7] + 'MoonLight!')\n",
    "print(s * 2)\n",
    "print('e' in s)"
   ]
  },
  {
   "cell_type": "markdown",
   "metadata": {},
   "source": [
    "另外，模块string中提供了更多字符串的处理方法，可以在import之后使用。\n",
    "\n",
    "### 1.4.2 列表\n",
    "\n",
    "列表是最常用的Python数据结构，具有丰富的操作："
   ]
  },
  {
   "cell_type": "code",
   "execution_count": 17,
   "metadata": {},
   "outputs": [
    {
     "name": "stdout",
     "output_type": "stream",
     "text": [
      "输出索引类例子：\n",
      "[1, 2, 3, 4]\n",
      "1\n",
      "[1, 2, 3]\n",
      "3\n",
      "输出性质描述类例子：\n",
      "4 4 1\n",
      "输出列表操作类例子：\n",
      "[1, 2, 3, 4, 5]\n",
      "[1, 2, 3, 4]\n",
      "[5, 1, 2, 3, 4]\n",
      "[5, 1, 2, 3]\n",
      "[3, 2, 1, 5]\n",
      "[1, 2, 3, 5]\n",
      "[1, 2, 5]\n",
      "输出列表运算类例子：\n",
      "[1, 2, 5, 1, 2, 5]\n",
      "[1, 2, 5, 1, 2, 5, 1, 2, 5]\n",
      "True\n",
      "1,2,5,"
     ]
    }
   ],
   "source": [
    "l = [1, 2, 3, 4]\n",
    "print('输出索引类例子：')\n",
    "print(l)\n",
    "print(l[0])\n",
    "print(l[0:3])\n",
    "print(l[-2])\n",
    "print('输出性质描述类例子：')\n",
    "print(len(l), max(l), min(l))\n",
    "print('输出列表操作类例子：')\n",
    "l.append(5)\n",
    "print(l)\n",
    "l.remove(5)\n",
    "print(l)\n",
    "l.insert(0, 5)\n",
    "print(l)\n",
    "l.pop()\n",
    "print(l)\n",
    "l.reverse()\n",
    "print(l)\n",
    "l.sort()\n",
    "print(l)\n",
    "del l[2]\n",
    "print(l)\n",
    "print('输出列表运算类例子：')\n",
    "print(l + l)\n",
    "print(l * 3)\n",
    "print(2 in l)\n",
    "for x in l: print(x, end=',')"
   ]
  },
  {
   "cell_type": "markdown",
   "metadata": {},
   "source": [
    "### 1.4.3 元组\n",
    "\n",
    "元组和列表类似，不同之处在于元素不能修改。\n",
    "元组使用小括号，列表使用方括号。\n",
    "元组提供的操作并不多："
   ]
  },
  {
   "cell_type": "code",
   "execution_count": 18,
   "metadata": {},
   "outputs": [
    {
     "name": "stdout",
     "output_type": "stream",
     "text": [
      "(1, 2, 3, 4)\n",
      "(2, 3, 4)\n",
      "(1, 2, 3, 4, 1, 2, 3, 4)\n",
      "4\n"
     ]
    }
   ],
   "source": [
    "t = (1, 2, 3, 4)\n",
    "print(t)\n",
    "print(t[1:4])\n",
    "print(t * 2)\n",
    "print(max(t))"
   ]
  },
  {
   "cell_type": "markdown",
   "metadata": {},
   "source": [
    "任何无符号的对象，以逗号隔开，都默认为元组。\n",
    "所以，可以理解为一个常量的集合。\n",
    "\n",
    "### 1.4.4 字典\n",
    "\n",
    "字典是一个键值对的集合，它使用大括号，\n",
    "键是唯一的，并且不可变，通常是字符串、数字、元组。\n",
    "它提供如下操作："
   ]
  },
  {
   "cell_type": "code",
   "execution_count": 19,
   "metadata": {},
   "outputs": [
    {
     "name": "stdout",
     "output_type": "stream",
     "text": [
      "{'key1': 1, 'key2': 2}\n",
      "1\n",
      "{'key1': 1, 'key2': 2, 'key3': 4}\n",
      "3\n",
      "dict_keys(['key1', 'key2', 'key3'])\n",
      "dict_values([1, 2, 4])\n",
      "dict_items([('key1', 1), ('key2', 2), ('key3', 4)])\n",
      "{'key2': 2, 'key3': 4}\n",
      "{}\n"
     ]
    }
   ],
   "source": [
    "d = {'key1':1, 'key2':2}\n",
    "print(d)\n",
    "print(d['key1'])\n",
    "d['key3'] = 4\n",
    "print(d)\n",
    "print(len(d))\n",
    "print(d.keys())\n",
    "print(d.values())\n",
    "print(d.items())\n",
    "del d['key1']\n",
    "print(d)\n",
    "d.clear();\n",
    "print(d)\n",
    "del d\n"
   ]
  },
  {
   "cell_type": "markdown",
   "metadata": {},
   "source": [
    "## 1.5 Python的逻辑控制语句\n",
    "\n",
    "逻辑控制语句主要指：条件控制、循环语句。\n",
    "\n",
    "### 1.5.1 条件控制\n",
    "\n",
    "Python使用if, elif, else来实现条件语句，可以嵌套："
   ]
  },
  {
   "cell_type": "code",
   "execution_count": 20,
   "metadata": {},
   "outputs": [
    {
     "name": "stdout",
     "output_type": "stream",
     "text": [
      "1\n"
     ]
    }
   ],
   "source": [
    "if 3 > 2:\n",
    "    print(1)\n",
    "elif 3 == 2:\n",
    "    print(2)\n",
    "else:\n",
    "    print(3)"
   ]
  },
  {
   "cell_type": "markdown",
   "metadata": {},
   "source": [
    "Python中没有switch语句。另外要特别注意缩进。\n",
    "\n",
    "### 1.5.2 循环语句\n",
    "\n",
    "Python提供while语句和for语句来实现循环。\n",
    "\n",
    "#### 1.5.2.1 while语句\n",
    "\n",
    "在使用while语句时，同样要注意冒号和缩进。\n",
    "同时，要注意，Python中并没有do...while语句。\n",
    "Python中，while可以和else同时使用，else后的内容表示while条件不满足时的执行内容。"
   ]
  },
  {
   "cell_type": "code",
   "execution_count": 21,
   "metadata": {},
   "outputs": [
    {
     "name": "stdout",
     "output_type": "stream",
     "text": [
      "0\n",
      "1\n",
      "2\n",
      "3\n",
      "4\n",
      "5\n",
      "6\n",
      "7\n",
      "8\n",
      "9\n",
      "11\n"
     ]
    }
   ],
   "source": [
    "x = 0\n",
    "while x < 10:\n",
    "    print(x)\n",
    "    x += 1\n",
    "else:\n",
    "    print(x + 1)"
   ]
  },
  {
   "cell_type": "markdown",
   "metadata": {},
   "source": [
    "#### 1.5.2.2 for语句\n",
    "\n",
    "在使用for语句时，同样要注意冒号和缩进。\n",
    "for语句可以遍历任何序列的对象，如一个列表或一个字符串。\n",
    "如果要便利数字序列，可以使用range()生成序列。"
   ]
  },
  {
   "cell_type": "code",
   "execution_count": 22,
   "metadata": {},
   "outputs": [
    {
     "name": "stdout",
     "output_type": "stream",
     "text": [
      "h e l l o \n",
      "0,1,2,3,4,"
     ]
    }
   ],
   "source": [
    "for c in \"hello\":\n",
    "    print(c, end=' ')\n",
    "print()\n",
    "for i in range(5):\n",
    "    print(i, end=',')"
   ]
  },
  {
   "cell_type": "markdown",
   "metadata": {},
   "source": [
    "#### 1.5.2.3 break、continue与pass\n",
    "\n",
    "Python中，break和continue的用法与其他语言完全一致，用于中断/继续循环。\n",
    "而pass则是其他语言少有的。\n",
    "它并没有什么用，就是个空语句，表示什么都不做。\n",
    "它只是为了保持程序结构的完整和美观而存在，类似一个占位符。\n",
    "\n",
    "## 1.6 Python的输入输出\n",
    "\n",
    "在前面的介绍中，我们已经多次使用Python的标准输出函数print了。\n",
    "在本节中，我们将介绍如何读取标准输入，以及如何读写文件。\n",
    "\n",
    "### 1.6.1 读取标准输入\n",
    "\n",
    "读取标准输入，我们使用input函数。"
   ]
  },
  {
   "cell_type": "code",
   "execution_count": 24,
   "metadata": {},
   "outputs": [
    {
     "name": "stdin",
     "output_type": "stream",
     "text": [
      "请输入：（h-帮助，q-退出） q\n"
     ]
    }
   ],
   "source": [
    "while True:\n",
    "    s = input(\"请输入：（h-帮助，q-退出）\")\n",
    "    if s == 'h':\n",
    "        print('s-显示内容')\n",
    "        print('q-退出')\n",
    "    elif s == 's':\n",
    "        print('hello, world!')\n",
    "    elif s == 'q':\n",
    "        break\n",
    "    else:\n",
    "        print('wrong input! please input \\'h\\' to get help!')"
   ]
  },
  {
   "cell_type": "markdown",
   "metadata": {},
   "source": [
    "### 1.6.2 读写文件\n",
    "\n",
    "Python使用open和close打开/关闭文件流，使用read/readlines/write来读取/写入流。"
   ]
  },
  {
   "cell_type": "code",
   "execution_count": 25,
   "metadata": {},
   "outputs": [
    {
     "name": "stdout",
     "output_type": "stream",
     "text": [
      "['hello, world!']\n"
     ]
    }
   ],
   "source": [
    "f = open(\"./tmp\", 'w')\n",
    "f.write(\"hello, world!\")\n",
    "f.close()\n",
    "\n",
    "f = open(\"./tmp\", 'r')\n",
    "s = f.readlines()\n",
    "print(s)\n",
    "f.close()"
   ]
  },
  {
   "cell_type": "markdown",
   "metadata": {},
   "source": [
    "## 1.7 Python的自定义函数\n",
    "\n",
    "Python使用def关键字来定义函数，使用return来指定返回值。"
   ]
  },
  {
   "cell_type": "code",
   "execution_count": 26,
   "metadata": {},
   "outputs": [
    {
     "name": "stdout",
     "output_type": "stream",
     "text": [
      "MoonLight, hello!\n",
      "1\n"
     ]
    }
   ],
   "source": [
    "def print_hello(name):\n",
    "    print(name, \"hello!\", sep=', ')\n",
    "    return 1\n",
    "print(print_hello(\"MoonLight\"))"
   ]
  },
  {
   "cell_type": "markdown",
   "metadata": {},
   "source": [
    "还可以通过lambda来创建匿名函数，以达到精简代码的效果。"
   ]
  },
  {
   "cell_type": "code",
   "execution_count": 27,
   "metadata": {},
   "outputs": [
    {
     "name": "stdout",
     "output_type": "stream",
     "text": [
      "Moon and Light, hello!\n"
     ]
    }
   ],
   "source": [
    "print_hello = lambda x, y: print(x, ' and ', y, ', ', 'hello!', sep='')\n",
    "print_hello('Moon', 'Light')"
   ]
  },
  {
   "cell_type": "markdown",
   "metadata": {},
   "source": [
    "## 1.8 Python面向对象编程\n",
    "\n",
    "Python是一门面向对象的语言。我们先来看一个简单的类："
   ]
  },
  {
   "cell_type": "code",
   "execution_count": 28,
   "metadata": {},
   "outputs": [
    {
     "name": "stdout",
     "output_type": "stream",
     "text": [
      "1\n",
      "3\n",
      "4\n"
     ]
    }
   ],
   "source": [
    "class MyClass:\n",
    "    __x0 = -1\n",
    "    x1 = 1\n",
    "    def __init__(self):\n",
    "        self.x2 = 2\n",
    "    def f(self):\n",
    "        print(self.x1)\n",
    "    def g(self):\n",
    "        self.x2 += 1\n",
    "        print(self.x2)\n",
    "        \n",
    "c = MyClass()\n",
    "c.f()\n",
    "c.g()\n",
    "c.g()"
   ]
  },
  {
   "cell_type": "markdown",
   "metadata": {},
   "source": [
    "其中，\n",
    "1. \\_\\_x0是私有属性，在类外部是无法直接访问的。\n",
    "2. x1是类的基本属性，在类的所有实例中，只初始化一次，并共享于该类的所有实例。\n",
    "3. \\_\\_init\\_\\_是构造函数\n",
    "4. self指类的实例\n",
    "5. x2是实例的属性，在类的不同实例中不同，x2在每个实例初始化时，于构造函数中初始化\n",
    "\n",
    "另外，类也可以继承，方法也可以重写："
   ]
  },
  {
   "cell_type": "code",
   "execution_count": 29,
   "metadata": {},
   "outputs": [
    {
     "name": "stdout",
     "output_type": "stream",
     "text": [
      "1\n",
      "5\n",
      "7\n"
     ]
    }
   ],
   "source": [
    "class NewClass(MyClass):\n",
    "    def __init__(self):\n",
    "        MyClass.__init__(self)\n",
    "        self.x3 = 3\n",
    "    def g(self):\n",
    "        self.x3 += 2\n",
    "        print(self.x3)\n",
    "        \n",
    "c = NewClass()\n",
    "c.f()\n",
    "c.g()\n",
    "c.g()"
   ]
  },
  {
   "cell_type": "markdown",
   "metadata": {},
   "source": [
    "## 1.9 Python基础语法总结\n",
    "\n",
    "下面这张图比较好的解释了Python的常见语法（图片来源于网络）：\n",
    "![20150529155203684.png](data/one_figure_entry_python_zhcn.jpg)\n",
    "\n",
    "## 1.10 了解TuShare包\n",
    "\n",
    "Tushare包提供以下数据：\n",
    "1. 交易数据\n",
    "    1. 历史行情\n",
    "    2. 复权数据\n",
    "    3. 实时行情\n",
    "    4. 历史分笔\n",
    "    5. 当日历史分比\n",
    "    6. 大盘指数行情列表\n",
    "    7. 大单交易数据\n",
    "2. 投资参考数据\n",
    "    1. 分配预案\n",
    "    2. 业绩预告\n",
    "    3. 限售股解禁\n",
    "    4. 基金持股\n",
    "    5. 新股数据\n",
    "    6. 融资融券\n",
    "3. 股票分类数据\n",
    "    1. 行业分类\n",
    "    2. 概念分类\n",
    "    3. 地域分类\n",
    "    4. 中小板分类\n",
    "    5. 创业板分类\n",
    "    6. 风险警示板分类\n",
    "    7. 指数成分股及权重\n",
    "    8. 终止/暂停上市股票列表\n",
    "4. 基本面数据\n",
    "    1. 股票列表\n",
    "    2. 业绩报告主表\n",
    "    3. 盈利能力\n",
    "    4. 营运能力\n",
    "    5. 成长能力\n",
    "    6. 偿债能力\n",
    "    7. 现金流量\n",
    "5. 宏观经济数据\n",
    "    1. 存贷款利率\n",
    "    2. 存款准备金率\n",
    "    3. 货币供应量\n",
    "    4. 国内生产总值\n",
    "    5. 三大需求对GDP的贡献\n",
    "    6. 三大产业对GDP的拉动\n",
    "    7. 居民消费价格指数\n",
    "    8. 工业品出厂价格指数\n",
    "6. 新闻事件数据\n",
    "    1. 即时新闻\n",
    "    2. 信息地雷\n",
    "    3. 新浪股吧\n",
    "7. 龙虎榜数据\n",
    "    1. 每日龙虎榜列表\n",
    "    2. 个股上榜统计\n",
    "    3. 营业部上榜统计\n",
    "    4. 机构席位追踪\n",
    "    5. 机构成交明细\n",
    "8. 银行间同业拆借利率\n",
    "    1. Shibor拆借利率\n",
    "    2. 银行报价数据\n",
    "    3. LPR\n",
    "9. 电影票房\n",
    "    1. 实时票房\n",
    "    2. 每日票房\n",
    "    3. 月度票房\n",
    "    4. 影院日度票房\n",
    "\n",
    "以上是TuShare提供的数据，数据质量较好。\n",
    "我们选择几个常用的数据接口来介绍，先导入包："
   ]
  },
  {
   "cell_type": "code",
   "execution_count": 23,
   "metadata": {},
   "outputs": [],
   "source": [
    "import tushare as ts"
   ]
  },
  {
   "cell_type": "markdown",
   "metadata": {},
   "source": [
    "使用最新版的函数读取浦发银行（600000）2017年1月的前复权日线行情："
   ]
  },
  {
   "cell_type": "code",
   "execution_count": 24,
   "metadata": {},
   "outputs": [
    {
     "name": "stdout",
     "output_type": "stream",
     "text": [
      "         date    open   close    high     low    volume    code\n",
      "0  2017-01-03  12.184  12.251  12.356  12.153  162371.0  600000\n",
      "1  2017-01-04  12.244  12.274  12.289  12.161  296587.0  600000\n",
      "2  2017-01-05  12.251  12.251  12.311  12.206  264376.0  600000\n",
      "3  2017-01-06  12.251  12.161  12.251  12.123  171955.0  600000\n",
      "4  2017-01-09  12.206  12.176  12.244  12.123  149087.0  600000\n"
     ]
    }
   ],
   "source": [
    "x = ts.get_k_data('600000', start='2017-01-01', end='2017-01-31')\n",
    "print(x.head())"
   ]
  },
  {
   "cell_type": "markdown",
   "metadata": {},
   "source": [
    "使用旧版的函数读取浦发银行（600000）2017年1月的日线行情："
   ]
  },
  {
   "cell_type": "code",
   "execution_count": 25,
   "metadata": {},
   "outputs": [
    {
     "name": "stdout",
     "output_type": "stream",
     "text": [
      "             open   high  close    low     volume  price_change  p_change  \\\n",
      "date                                                                        \n",
      "2017-01-26  16.69  16.84  16.74  16.61   86029.07          0.05      0.30   \n",
      "2017-01-25  16.69  16.74  16.69  16.61  112848.69          0.00      0.00   \n",
      "2017-01-24  16.58  16.70  16.69  16.58  149852.41          0.12      0.72   \n",
      "2017-01-23  16.66  16.69  16.57  16.51  146165.41         -0.03     -0.18   \n",
      "2017-01-20  16.58  16.66  16.60  16.50  142882.69          0.06      0.36   \n",
      "\n",
      "               ma5    ma10    ma20      v_ma5     v_ma10     v_ma20  \n",
      "date                                                                 \n",
      "2017-01-26  16.658  16.554  16.380  127555.65  172331.34  163184.45  \n",
      "2017-01-25  16.618  16.492  16.348  134711.21  172024.58  166103.76  \n",
      "2017-01-24  16.576  16.439  16.320  135098.80  169933.04  165794.24  \n",
      "2017-01-23  16.518  16.389  16.298  130238.90  162944.56  165542.85  \n",
      "2017-01-20  16.516  16.352  16.279  207615.27  163236.76  163828.53  \n"
     ]
    }
   ],
   "source": [
    "x = ts.get_hist_data('600000', start='2017-01-01', end='2017-01-31')\n",
    "print(x.head())"
   ]
  },
  {
   "cell_type": "markdown",
   "metadata": {},
   "source": [
    "获取上证50指数成分股："
   ]
  },
  {
   "cell_type": "code",
   "execution_count": 26,
   "metadata": {},
   "outputs": [
    {
     "name": "stderr",
     "output_type": "stream",
     "text": [
      "C:\\Users\\huang\\Anaconda3\\lib\\site-packages\\tushare\\stock\\classifying.py:266: FutureWarning: the 'parse_cols' keyword is deprecated, use 'usecols' instead\n",
      "  ct.PAGES['sz50b']), parse_cols=[0, 4, 5])\n"
     ]
    },
    {
     "data": {
      "text/html": [
       "<div>\n",
       "<style scoped>\n",
       "    .dataframe tbody tr th:only-of-type {\n",
       "        vertical-align: middle;\n",
       "    }\n",
       "\n",
       "    .dataframe tbody tr th {\n",
       "        vertical-align: top;\n",
       "    }\n",
       "\n",
       "    .dataframe thead th {\n",
       "        text-align: right;\n",
       "    }\n",
       "</style>\n",
       "<table border=\"1\" class=\"dataframe\">\n",
       "  <thead>\n",
       "    <tr style=\"text-align: right;\">\n",
       "      <th></th>\n",
       "      <th>date</th>\n",
       "      <th>code</th>\n",
       "      <th>name</th>\n",
       "    </tr>\n",
       "  </thead>\n",
       "  <tbody>\n",
       "    <tr>\n",
       "      <th>0</th>\n",
       "      <td>2018-10-11</td>\n",
       "      <td>600000</td>\n",
       "      <td>浦发银行</td>\n",
       "    </tr>\n",
       "    <tr>\n",
       "      <th>1</th>\n",
       "      <td>2018-10-11</td>\n",
       "      <td>600016</td>\n",
       "      <td>民生银行</td>\n",
       "    </tr>\n",
       "    <tr>\n",
       "      <th>2</th>\n",
       "      <td>2018-10-11</td>\n",
       "      <td>600019</td>\n",
       "      <td>宝钢股份</td>\n",
       "    </tr>\n",
       "    <tr>\n",
       "      <th>3</th>\n",
       "      <td>2018-10-11</td>\n",
       "      <td>600028</td>\n",
       "      <td>中国石化</td>\n",
       "    </tr>\n",
       "    <tr>\n",
       "      <th>4</th>\n",
       "      <td>2018-10-11</td>\n",
       "      <td>600029</td>\n",
       "      <td>南方航空</td>\n",
       "    </tr>\n",
       "  </tbody>\n",
       "</table>\n",
       "</div>"
      ],
      "text/plain": [
       "         date    code  name\n",
       "0  2018-10-11  600000  浦发银行\n",
       "1  2018-10-11  600016  民生银行\n",
       "2  2018-10-11  600019  宝钢股份\n",
       "3  2018-10-11  600028  中国石化\n",
       "4  2018-10-11  600029  南方航空"
      ]
     },
     "execution_count": 26,
     "metadata": {},
     "output_type": "execute_result"
    }
   ],
   "source": [
    "s = ts.get_sz50s()\n",
    "s.head()"
   ]
  },
  {
   "cell_type": "markdown",
   "metadata": {},
   "source": [
    "获取所有股票的列表："
   ]
  },
  {
   "cell_type": "code",
   "execution_count": 27,
   "metadata": {},
   "outputs": [
    {
     "data": {
      "text/html": [
       "<div>\n",
       "<style scoped>\n",
       "    .dataframe tbody tr th:only-of-type {\n",
       "        vertical-align: middle;\n",
       "    }\n",
       "\n",
       "    .dataframe tbody tr th {\n",
       "        vertical-align: top;\n",
       "    }\n",
       "\n",
       "    .dataframe thead th {\n",
       "        text-align: right;\n",
       "    }\n",
       "</style>\n",
       "<table border=\"1\" class=\"dataframe\">\n",
       "  <thead>\n",
       "    <tr style=\"text-align: right;\">\n",
       "      <th></th>\n",
       "      <th>name</th>\n",
       "      <th>industry</th>\n",
       "      <th>area</th>\n",
       "      <th>pe</th>\n",
       "      <th>outstanding</th>\n",
       "      <th>totals</th>\n",
       "      <th>totalAssets</th>\n",
       "      <th>liquidAssets</th>\n",
       "      <th>fixedAssets</th>\n",
       "      <th>reserved</th>\n",
       "      <th>...</th>\n",
       "      <th>bvps</th>\n",
       "      <th>pb</th>\n",
       "      <th>timeToMarket</th>\n",
       "      <th>undp</th>\n",
       "      <th>perundp</th>\n",
       "      <th>rev</th>\n",
       "      <th>profit</th>\n",
       "      <th>gpr</th>\n",
       "      <th>npr</th>\n",
       "      <th>holders</th>\n",
       "    </tr>\n",
       "    <tr>\n",
       "      <th>code</th>\n",
       "      <th></th>\n",
       "      <th></th>\n",
       "      <th></th>\n",
       "      <th></th>\n",
       "      <th></th>\n",
       "      <th></th>\n",
       "      <th></th>\n",
       "      <th></th>\n",
       "      <th></th>\n",
       "      <th></th>\n",
       "      <th></th>\n",
       "      <th></th>\n",
       "      <th></th>\n",
       "      <th></th>\n",
       "      <th></th>\n",
       "      <th></th>\n",
       "      <th></th>\n",
       "      <th></th>\n",
       "      <th></th>\n",
       "      <th></th>\n",
       "      <th></th>\n",
       "    </tr>\n",
       "  </thead>\n",
       "  <tbody>\n",
       "    <tr>\n",
       "      <th>600687</th>\n",
       "      <td>刚泰控股</td>\n",
       "      <td>黄金</td>\n",
       "      <td>甘肃</td>\n",
       "      <td>27.89</td>\n",
       "      <td>10.79</td>\n",
       "      <td>14.89</td>\n",
       "      <td>1316137.38</td>\n",
       "      <td>1061221.50</td>\n",
       "      <td>51316.81</td>\n",
       "      <td>290196.34</td>\n",
       "      <td>...</td>\n",
       "      <td>4.13</td>\n",
       "      <td>0.98</td>\n",
       "      <td>19931108</td>\n",
       "      <td>167376.27</td>\n",
       "      <td>1.12</td>\n",
       "      <td>36.27</td>\n",
       "      <td>-57.50</td>\n",
       "      <td>9.88</td>\n",
       "      <td>2.00</td>\n",
       "      <td>27356.0</td>\n",
       "    </tr>\n",
       "    <tr>\n",
       "      <th>002863</th>\n",
       "      <td>今飞凯达</td>\n",
       "      <td>汽车配件</td>\n",
       "      <td>浙江</td>\n",
       "      <td>39.32</td>\n",
       "      <td>1.86</td>\n",
       "      <td>3.77</td>\n",
       "      <td>405122.28</td>\n",
       "      <td>211851.41</td>\n",
       "      <td>137480.42</td>\n",
       "      <td>14036.87</td>\n",
       "      <td>...</td>\n",
       "      <td>2.45</td>\n",
       "      <td>3.00</td>\n",
       "      <td>20170418</td>\n",
       "      <td>36489.67</td>\n",
       "      <td>0.97</td>\n",
       "      <td>16.77</td>\n",
       "      <td>3.13</td>\n",
       "      <td>16.81</td>\n",
       "      <td>2.62</td>\n",
       "      <td>36015.0</td>\n",
       "    </tr>\n",
       "    <tr>\n",
       "      <th>300670</th>\n",
       "      <td>大烨智能</td>\n",
       "      <td>电气设备</td>\n",
       "      <td>江苏</td>\n",
       "      <td>121.40</td>\n",
       "      <td>0.49</td>\n",
       "      <td>1.94</td>\n",
       "      <td>75268.74</td>\n",
       "      <td>63335.19</td>\n",
       "      <td>6578.03</td>\n",
       "      <td>20441.60</td>\n",
       "      <td>...</td>\n",
       "      <td>2.91</td>\n",
       "      <td>5.85</td>\n",
       "      <td>20170703</td>\n",
       "      <td>14930.63</td>\n",
       "      <td>0.77</td>\n",
       "      <td>0.37</td>\n",
       "      <td>-34.16</td>\n",
       "      <td>24.63</td>\n",
       "      <td>9.61</td>\n",
       "      <td>14130.0</td>\n",
       "    </tr>\n",
       "    <tr>\n",
       "      <th>603223</th>\n",
       "      <td>恒通股份</td>\n",
       "      <td>供气供热</td>\n",
       "      <td>山东</td>\n",
       "      <td>37.55</td>\n",
       "      <td>1.68</td>\n",
       "      <td>2.02</td>\n",
       "      <td>171005.72</td>\n",
       "      <td>83062.71</td>\n",
       "      <td>47820.01</td>\n",
       "      <td>58036.26</td>\n",
       "      <td>...</td>\n",
       "      <td>5.40</td>\n",
       "      <td>2.69</td>\n",
       "      <td>20150630</td>\n",
       "      <td>28533.72</td>\n",
       "      <td>1.42</td>\n",
       "      <td>52.85</td>\n",
       "      <td>29.13</td>\n",
       "      <td>5.26</td>\n",
       "      <td>1.64</td>\n",
       "      <td>11928.0</td>\n",
       "    </tr>\n",
       "    <tr>\n",
       "      <th>000606</th>\n",
       "      <td>顺利办</td>\n",
       "      <td>互联网</td>\n",
       "      <td>青海</td>\n",
       "      <td>35.01</td>\n",
       "      <td>5.46</td>\n",
       "      <td>7.66</td>\n",
       "      <td>360827.63</td>\n",
       "      <td>56586.90</td>\n",
       "      <td>4200.60</td>\n",
       "      <td>211407.91</td>\n",
       "      <td>...</td>\n",
       "      <td>3.69</td>\n",
       "      <td>1.49</td>\n",
       "      <td>19961004</td>\n",
       "      <td>-8354.66</td>\n",
       "      <td>-0.11</td>\n",
       "      <td>46.27</td>\n",
       "      <td>255.92</td>\n",
       "      <td>29.20</td>\n",
       "      <td>18.19</td>\n",
       "      <td>28570.0</td>\n",
       "    </tr>\n",
       "  </tbody>\n",
       "</table>\n",
       "<p>5 rows × 22 columns</p>\n",
       "</div>"
      ],
      "text/plain": [
       "        name industry area      pe  outstanding  totals  totalAssets  \\\n",
       "code                                                                   \n",
       "600687  刚泰控股       黄金   甘肃   27.89        10.79   14.89   1316137.38   \n",
       "002863  今飞凯达     汽车配件   浙江   39.32         1.86    3.77    405122.28   \n",
       "300670  大烨智能     电气设备   江苏  121.40         0.49    1.94     75268.74   \n",
       "603223  恒通股份     供气供热   山东   37.55         1.68    2.02    171005.72   \n",
       "000606   顺利办      互联网   青海   35.01         5.46    7.66    360827.63   \n",
       "\n",
       "        liquidAssets  fixedAssets   reserved   ...     bvps    pb  \\\n",
       "code                                           ...                  \n",
       "600687    1061221.50     51316.81  290196.34   ...     4.13  0.98   \n",
       "002863     211851.41    137480.42   14036.87   ...     2.45  3.00   \n",
       "300670      63335.19      6578.03   20441.60   ...     2.91  5.85   \n",
       "603223      83062.71     47820.01   58036.26   ...     5.40  2.69   \n",
       "000606      56586.90      4200.60  211407.91   ...     3.69  1.49   \n",
       "\n",
       "        timeToMarket       undp  perundp    rev  profit    gpr    npr  holders  \n",
       "code                                                                            \n",
       "600687      19931108  167376.27     1.12  36.27  -57.50   9.88   2.00  27356.0  \n",
       "002863      20170418   36489.67     0.97  16.77    3.13  16.81   2.62  36015.0  \n",
       "300670      20170703   14930.63     0.77   0.37  -34.16  24.63   9.61  14130.0  \n",
       "603223      20150630   28533.72     1.42  52.85   29.13   5.26   1.64  11928.0  \n",
       "000606      19961004   -8354.66    -0.11  46.27  255.92  29.20  18.19  28570.0  \n",
       "\n",
       "[5 rows x 22 columns]"
      ]
     },
     "execution_count": 27,
     "metadata": {},
     "output_type": "execute_result"
    }
   ],
   "source": [
    "s = ts.get_stock_basics()\n",
    "s.head()"
   ]
  },
  {
   "cell_type": "markdown",
   "metadata": {},
   "source": [
    "有时候在调用TuShare函数时，会报警告或长时间无法获得数据。\n",
    "警告是因为其内置函数使用了一些Python不建议的用法，这点我们没办法。\n",
    "长时间无法获取数据可能是网络原因。如果不是网络原因，建议换一个具有同样功能的函数使用。"
   ]
  }
 ],
 "metadata": {
  "kernelspec": {
   "display_name": "Python 3",
   "language": "python",
   "name": "python3"
  },
  "language_info": {
   "codemirror_mode": {
    "name": "ipython",
    "version": 3
   },
   "file_extension": ".py",
   "mimetype": "text/x-python",
   "name": "python",
   "nbconvert_exporter": "python",
   "pygments_lexer": "ipython3",
   "version": "3.7.1"
  }
 },
 "nbformat": 4,
 "nbformat_minor": 2
}
