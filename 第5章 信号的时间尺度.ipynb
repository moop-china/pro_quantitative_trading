{
 "cells": [
  {
   "cell_type": "markdown",
   "metadata": {},
   "source": [
    "# 实验 5 信号的时间尺度\n",
    "\n",
    "## 背景介绍：\n",
    "\n",
    "信息具有时间维度，它们到达的频率不同，其价值体现的时期有长有短。多数信息的到达频率是固定的，而我们更感兴趣的是其保质期，即信息的时间尺度。\n",
    "这是一个将在三四天内消失的快速信号，还是一个在随后一年中具有持续价值的缓慢信号？最新的信息并不一定是最好的，在某些情况下，新信息与旧信息的混合比最新的信息更有价值。\n",
    "\n",
    "在前面几章中，我们了解了如何从原始信号中，得出精炼预测。在本章中，我们要先从时间维度上处理原始信号，然后再用同样的方法得出精炼预测。虽然有很大部分程序与前面几章完成的工作类似，但是，我们的程序也将越来越精练。我们将和读者共同体验不断优化程序的过程。\n",
    "\n",
    "## 实验过程：\n",
    "\n",
    "1. 分别计算前述信号的自相关系数\n",
    "2. 分别计算前述信号的衰减系数\n",
    "3. 分别在时间尺度上混合前述信号\n",
    "4. 重新计算混合信号的IC和$\\alpha$\n",
    "\n",
    "## 实验目标：\n",
    "\n",
    "1. 掌握前述信号的基本计算方法\n",
    "2. 掌握混合信号的方法\n",
    "3. 理解信号的时间尺度\n",
    "4. 了解各种信号的非线性计算算法\n",
    "\n",
    "## 预期结果：\n",
    "\n",
    "完成自相关系数和衰减系数的计算后，能得出效果更好的模型\n",
    "\n",
    "## 作业\n",
    "\n",
    "尝试使用其他的指数数据来完成时间维度信号重组模型"
   ]
  },
  {
   "cell_type": "markdown",
   "metadata": {},
   "source": [
    "## 5.1 基础知识准备\n",
    "\n",
    "对策略的信息时间尺度或信息保质期的一个自然定义是IC的衰减速率，即衰减系数。它衡量了，如果我们在获得信号后，因为种种原因，比如拖延症，使得我们下单晚了一天，那么我们将付出怎样的代价。一般来说，延迟下单会导致我们的业绩下降，即IC的下降。那么IC衰减到一半所需要延迟的时间，即半衰期，就是一个很好的度量。谈到半衰期，如果它能比较好的度量IC的衰减，那么，这意味着IC的衰减是类似于指数衰减的。这是一个合理的假设，这等价于，在每个时期中，IC衰减固定的比例。\n",
    "\n",
    "而且，经过数学推导，我们发现，在时间维度上重组信号，对于半衰期没有任何影响。这是一个非常好的性质，可以让我们做更多的事情。我们可以推导出，如何在时间维度上重组信号是最优的：\n",
    "$$s^\\star(0) = s(0) - \\rho \\cdot s(-\\Delta t) + \\delta \\cdot s^\\star(-\\Delta t)$$\n",
    "其中，$s(0)$表示当前到达的新信号，$s^\\star(0)$表示$s(0)$在时间维度重组后的信号，$s(-\\Delta t)$表示上一期到达的信号，$s\\star(-\\Delta t)$表示$s(-\\Delta t)$在时间维度重组后的信，$\\delta$表示衰减系数，$\\rho$表示信号的自相关系数。\n",
    "\n",
    "详细的数学细节我们并不推导，我们只需要知道上式包含两部分，一部分是新信号所带来的新信息，另一部分是旧信号所遗留的信息。这样就不难理解上式的意义了。本章的实验，将围绕上式来进行。"
   ]
  },
  {
   "cell_type": "markdown",
   "metadata": {},
   "source": [
    "## 5.2 操作流程\n",
    "### 5.2.0 准备工作\n",
    "\n",
    "和前面的章节一样，本章的代码也是可以独立运行的，所以我们需要先做一些准备工作。\n",
    "\n",
    "首先，我们导入包："
   ]
  },
  {
   "cell_type": "code",
   "execution_count": 1,
   "metadata": {},
   "outputs": [],
   "source": [
    "import matplotlib.pyplot as plt\n",
    "import pandas as pd\n",
    "import numpy as np\n",
    "import scipy as sp\n",
    "import scipy.stats\n",
    "\n",
    "import tushare as ts"
   ]
  },
  {
   "cell_type": "markdown",
   "metadata": {},
   "source": [
    "然后我们获取股票数据和上证50指数数据："
   ]
  },
  {
   "cell_type": "code",
   "execution_count": 2,
   "metadata": {},
   "outputs": [
    {
     "name": "stderr",
     "output_type": "stream",
     "text": [
      "/srv/conda/lib/python3.7/site-packages/tushare/stock/classifying.py:266: FutureWarning: the 'parse_cols' keyword is deprecated, use 'usecols' instead\n",
      "  ct.PAGES['sz50b']), parse_cols=[0, 4, 5])\n"
     ]
    }
   ],
   "source": [
    "stock_list = ts.get_sz50s().code\n",
    "stock_data = {}\n",
    "for stock in stock_list:\n",
    "    stock_data[stock] = ts.get_k_data(stock, start='2017-01-01', end='2017-12-31')\n",
    "    \n",
    "index_name = '000016'\n",
    "index_data = ts.get_k_data(index_name, index=True, start='2017-01-01', end='2017-12-31')"
   ]
  },
  {
   "cell_type": "markdown",
   "metadata": {},
   "source": [
    "整理数据："
   ]
  },
  {
   "cell_type": "code",
   "execution_count": 3,
   "metadata": {},
   "outputs": [],
   "source": [
    "#整理股票数据\n",
    "stock_0 = pd.DataFrame(index=index_data.date)\n",
    "stock_na = pd.DataFrame(index=index_data.date)\n",
    "stock_open = stock_0.copy()\n",
    "stock_high = stock_0.copy()\n",
    "stock_low = stock_0.copy()\n",
    "stock_close = stock_0.copy()\n",
    "\n",
    "for stock in stock_list:\n",
    "    stock_0 = stock_0.join(pd.DataFrame(0.0, index=stock_data[stock].date, columns=[stock]))\n",
    "    stock_na = stock_na.join(pd.DataFrame(stock_data[stock].open.isna().values, index=stock_data[stock].date, columns=[stock]))\n",
    "    stock_open = stock_open.join(pd.DataFrame(stock_data[stock].open.values, index=stock_data[stock].date, columns=[stock]))\n",
    "    stock_high = stock_high.join(pd.DataFrame(stock_data[stock].high.values, index=stock_data[stock].date, columns=[stock]))\n",
    "    stock_low = stock_low.join(pd.DataFrame(stock_data[stock].low.values, index=stock_data[stock].date, columns=[stock]))\n",
    "    stock_close = stock_close.join(pd.DataFrame(stock_data[stock].close.values, index=stock_data[stock].date, columns=[stock]))\n",
    "    \n",
    "stock_rtn = stock_0.copy()\n",
    "for stock in stock_list:\n",
    "    stock_rtn[stock] = stock_close[stock] / stock_close[stock].shift() - 1\n",
    "stock_rtn = stock_rtn.fillna(0)\n",
    "\n",
    "#整理指数数据\n",
    "index_0 = pd.DataFrame(0.0, index=index_data.date, columns=[index_name])\n",
    "index_open = pd.DataFrame(index_data.open.values, index=index_data.date, columns=[index_name])\n",
    "index_high = pd.DataFrame(index_data.high.values, index=index_data.date, columns=[index_name])\n",
    "index_low = pd.DataFrame(index_data.low.values, index=index_data.date, columns=[index_name])\n",
    "index_close = pd.DataFrame(index_data.close.values, index=index_data.date, columns=[index_name])\n",
    "\n",
    "index_rtn = index_close / index_close.shift() - 1\n",
    "index_rtn = index_rtn.fillna(0)\n",
    "\n",
    "#计算主动收益率\n",
    "stock_active_rtn = stock_rtn - np.repeat(index_rtn.values, stock_rtn.columns.size, axis=1)\n",
    "stock_active_rtn_std = stock_active_rtn.std()"
   ]
  },
  {
   "cell_type": "markdown",
   "metadata": {},
   "source": [
    "计算“红三兵”："
   ]
  },
  {
   "cell_type": "code",
   "execution_count": 4,
   "metadata": {},
   "outputs": [],
   "source": [
    "def cal_rtn_predictor_r3s():\n",
    "    #初始化返回值\n",
    "    res = stock_0.copy().fillna(0)\n",
    "    #计算每只股票的预测值\n",
    "    for stock in stock_list:\n",
    "        #计算每日的预测值\n",
    "        for i in range(2, len(stock_0)):\n",
    "            idx = list(range(i - 2, i + 1))      \n",
    "            if stock_na[stock][idx].sum():\n",
    "                #剔除近三日有停牌的股票\n",
    "                res[stock][i] = 0.0\n",
    "            else:\n",
    "                o = stock_open[stock][idx].copy()\n",
    "                c = stock_close[stock][idx].copy()\n",
    "                h = stock_high[stock][idx].copy()\n",
    "                l = stock_low[stock][idx].copy()\n",
    "                r = stock_rtn[stock][idx].copy()\n",
    "                os = o.shift(-1)\n",
    "                #计算\n",
    "                d = (r > 0).sum()\n",
    "                #近三日中有两日以上上涨\n",
    "                if d > 0:\n",
    "                    #每日开盘是否在上日K线实体之内\n",
    "                    in_entity = (os > o).sum() + (os < c).sum()\n",
    "                    #计算惩罚函数\n",
    "                    loss = (c / h - 1).std() + r.std() + (3 - d) / 100 + (4 - in_entity) / 100\n",
    "                    if loss < 0.05:\n",
    "                        #看涨，预测收益率\n",
    "                        res[stock][i] = 0.05 - loss\n",
    "                #近三日中有两日以上没有上涨\n",
    "                elif d < 0:\n",
    "                    #每日开盘是否在上日K线实体之内\n",
    "                    in_entity = (os < o).sum() + (os > c).sum()\n",
    "                    #计算惩罚函数\n",
    "                    loss = (c / l - 1).std() + r.std() + (3 - d) / 100 + (4 - in_entity) / 100\n",
    "                    if loss < 0.05:\n",
    "                        #看跌，预测收益率\n",
    "                        res[stock][i] = -0.05 + loss\n",
    "    return res\n",
    "\n",
    "rtn_predictor_r3s = cal_rtn_predictor_r3s()"
   ]
  },
  {
   "cell_type": "markdown",
   "metadata": {},
   "source": [
    "计算动量信号："
   ]
  },
  {
   "cell_type": "code",
   "execution_count": 5,
   "metadata": {},
   "outputs": [],
   "source": [
    "def ma_calculator(data, n):\n",
    "    res = data.copy()\n",
    "    for i in range(1, n):\n",
    "        res += data.shift(i)\n",
    "    return res / n\n",
    "\n",
    "def cal_rtn_predictor_ma():\n",
    "    stock_ma_excess = ma_calculator(stock_close, 3) / ma_calculator(stock_close, 13) - 1\n",
    "    stock_ma_excess_quantile = stock_ma_excess.fillna(0.0).rank(axis=1) / 51.0\n",
    "    return stock_ma_excess_quantile.apply(sp.stats.norm(0,1).ppf)\n",
    "\n",
    "rtn_predictor_ma = cal_rtn_predictor_ma()"
   ]
  },
  {
   "cell_type": "markdown",
   "metadata": {},
   "source": [
    "以上，我们完成了本章的准备工作，其主要是整理前几章的相关内容。\n",
    "\n",
    "### 5.2.1 步骤一：分别计算前述信号的自相关系数\n",
    "\n",
    "计算自相关系数，属于时间序列范畴，我们引入包StatsModels，其中关于时间序列的模块tsa则是本节所需要的。\n",
    "\n",
    "我们首先介绍一下StatsModels包。\n",
    "它是一个包含很多统计模型的Python库，能完成很多统计测试、数据探索以及可视化。它包含的模型主要有：\n",
    "1. 线性模型\n",
    "2. 广义线性模型\n",
    "3. 鲁棒线性模型\n",
    "4. 线性混合效应模型\n",
    "5. 方差分析模型\n",
    "6. 时间序列模型\n",
    "7. 状态空间模型\n",
    "8. 广义矩估计方法\n",
    "\n",
    "和上一章提到的SciPy一样，StatsModels包含太多模型和方法，我们无法穷尽它的细节。更推荐的做法是：每当遇到统计模型的问题时，就去StatsModels对应模块的手册中检索，看看它是否提供了解决问题的工具。如果有，在专项的仔细学习这个工具，并使用之。它的介绍在这里：\n",
    "\n",
    "http://www.statsmodels.org/\n",
    "\n",
    "接下来，我们导入包："
   ]
  },
  {
   "cell_type": "code",
   "execution_count": 6,
   "metadata": {},
   "outputs": [],
   "source": [
    "from statsmodels.tsa.stattools import acf"
   ]
  },
  {
   "cell_type": "markdown",
   "metadata": {},
   "source": [
    "我们以股票600000为例，计算一下动量信号的自相关系数："
   ]
  },
  {
   "cell_type": "code",
   "execution_count": 7,
   "metadata": {},
   "outputs": [
    {
     "name": "stdout",
     "output_type": "stream",
     "text": [
      "[ 1.          0.92702681  0.81830254  0.68546128  0.56018019  0.4359472\n",
      "  0.32833117  0.21954506  0.11649478  0.02062014 -0.05856272 -0.12949939\n",
      " -0.16947594 -0.18338037 -0.19703475 -0.21043096 -0.22291048 -0.22657501\n",
      " -0.22951994 -0.23921017 -0.25608769 -0.2813694  -0.30706955 -0.32973657\n",
      " -0.3357647  -0.32050919 -0.2959728  -0.26616144 -0.22979578 -0.18225319\n",
      " -0.11961147 -0.04230515  0.02466532  0.07947624  0.1214098   0.14254765\n",
      "  0.14879402  0.14942438  0.15542614  0.16746644  0.17754872]\n"
     ]
    },
    {
     "data": {
      "image/png": "[encoded data removed]",
      "text/plain": [
       "<Figure size 432x288 with 1 Axes>"
      ]
     },
     "metadata": {
      "needs_background": "light"
     },
     "output_type": "display_data"
    }
   ],
   "source": [
    "acf_600000 = acf(rtn_predictor_ma['600000'])\n",
    "print(acf_600000)\n",
    "plt.plot(acf_600000)\n",
    "plt.show()"
   ]
  },
  {
   "cell_type": "markdown",
   "metadata": {},
   "source": [
    "可以看出，其自相关性还是比较明显的。一阶自相关系数为0.93。\n",
    "然后，我们可以计算在不同股票上，动量信号的一阶自相关系数："
   ]
  },
  {
   "cell_type": "code",
   "execution_count": 8,
   "metadata": {},
   "outputs": [
    {
     "data": {
      "image/png": "[encoded data removed]",
      "text/plain": [
       "<Figure size 432x288 with 1 Axes>"
      ]
     },
     "metadata": {
      "needs_background": "light"
     },
     "output_type": "display_data"
    },
    {
     "data": {
      "image/png": "[encoded data removed]",
      "text/plain": [
       "<Figure size 432x288 with 1 Axes>"
      ]
     },
     "metadata": {
      "needs_background": "light"
     },
     "output_type": "display_data"
    }
   ],
   "source": [
    "acf_ma_all = pd.Series(index=stock_list)\n",
    "for stock in stock_list:\n",
    "    acf_ma_all[stock] = acf(rtn_predictor_ma[stock])[1]\n",
    "acf_ma_all.hist()\n",
    "plt.show()\n",
    "acf_ma_all.plot(kind='bar')\n",
    "plt.show()"
   ]
  },
  {
   "cell_type": "markdown",
   "metadata": {},
   "source": [
    "可以看到，不同股票上，动量信号的一阶自相关系数非常接近，我们完全可以假设它们相同。\n",
    "事实上，我们通常也确实是这样假设的："
   ]
  },
  {
   "cell_type": "code",
   "execution_count": 9,
   "metadata": {},
   "outputs": [
    {
     "name": "stdout",
     "output_type": "stream",
     "text": [
      "0.9211660388514225\n"
     ]
    }
   ],
   "source": [
    "acf_ma = acf_ma_all.mean()\n",
    "print(acf_ma)"
   ]
  },
  {
   "cell_type": "markdown",
   "metadata": {},
   "source": [
    "同理，我们可以计算“红三兵”的自相关系数："
   ]
  },
  {
   "cell_type": "code",
   "execution_count": 10,
   "metadata": {},
   "outputs": [
    {
     "name": "stderr",
     "output_type": "stream",
     "text": [
      "/srv/conda/lib/python3.7/site-packages/statsmodels/tsa/stattools.py:476: RuntimeWarning: invalid value encountered in true_divide\n",
      "  acf = avf[:nlags + 1] / avf[0]\n"
     ]
    },
    {
     "data": {
      "image/png": "[encoded data removed]",
      "text/plain": [
       "<Figure size 432x288 with 1 Axes>"
      ]
     },
     "metadata": {
      "needs_background": "light"
     },
     "output_type": "display_data"
    },
    {
     "data": {
      "image/png": "[encoded data removed]",
      "text/plain": [
       "<Figure size 432x288 with 1 Axes>"
      ]
     },
     "metadata": {
      "needs_background": "light"
     },
     "output_type": "display_data"
    },
    {
     "name": "stdout",
     "output_type": "stream",
     "text": [
      "0.5097423016685081\n"
     ]
    }
   ],
   "source": [
    "acf_r3s_all = pd.Series(index=stock_list)\n",
    "for stock in stock_list:\n",
    "    acf_r3s_all[stock] = acf(rtn_predictor_r3s[stock])[1]\n",
    "acf_r3s_all.hist()\n",
    "plt.show()\n",
    "acf_r3s_all.plot(kind='bar')\n",
    "plt.show()\n",
    "acf_r3s = acf_r3s_all.mean()\n",
    "print(acf_r3s)"
   ]
  },
  {
   "cell_type": "markdown",
   "metadata": {},
   "source": [
    "### 5.2.2 步骤二：分别计算前述信号的衰减系数\n",
    "\n",
    "我们计算IC = IC(1)时，是计算t时刻某信号的预测与t+1时刻标的的收益率的相关系数。\n",
    "而我们可以类似的计算IC(2)，即t时刻该信号的预测与t+2时刻标的的收益率的相关系数。\n",
    "而IC(2) / IC(1)即可用于估计衰减系数。那么，我们先来计算两个信号的IC："
   ]
  },
  {
   "cell_type": "code",
   "execution_count": 11,
   "metadata": {},
   "outputs": [
    {
     "name": "stdout",
     "output_type": "stream",
     "text": [
      "0.022522821285194426 0.01980671564542238\n"
     ]
    }
   ],
   "source": [
    "ic_r3s = np.corrcoef(stock_active_rtn.shift(-1).fillna(0.0).values.reshape(stock_active_rtn.size), rtn_predictor_r3s.values.reshape(rtn_predictor_r3s.size))[0,1]\n",
    "ic_ma = np.corrcoef(stock_active_rtn.shift(-1).fillna(0.0).values.reshape(stock_active_rtn.size), rtn_predictor_ma.values.reshape(rtn_predictor_ma.size))[0,1]\n",
    "print(ic_r3s, ic_ma)"
   ]
  },
  {
   "cell_type": "markdown",
   "metadata": {},
   "source": [
    "我们可以按公式计算两个信号各自的IC(2)："
   ]
  },
  {
   "cell_type": "code",
   "execution_count": 12,
   "metadata": {},
   "outputs": [
    {
     "name": "stdout",
     "output_type": "stream",
     "text": [
      "0.022027734808021088 0.017939287607090987\n"
     ]
    }
   ],
   "source": [
    "ic_r3s_2 = np.corrcoef(stock_active_rtn.shift(-2).fillna(0.0).values.reshape(stock_active_rtn.size), rtn_predictor_r3s.values.reshape(rtn_predictor_r3s.size))[0,1]\n",
    "ic_ma_2 = np.corrcoef(stock_active_rtn.shift(-2).fillna(0.0).values.reshape(stock_active_rtn.size), rtn_predictor_ma.values.reshape(rtn_predictor_ma.size))[0,1]\n",
    "print(ic_r3s_2, ic_ma_2)"
   ]
  },
  {
   "cell_type": "markdown",
   "metadata": {},
   "source": [
    "我们注意到，对于“红三兵”，IC(2)竟然比IC(1)大，这看起来不符合我们的假设，但也很可能是误差导致的。所以，我们需要更精确的计算。\n",
    "一个显然的方法是：再计算IC(3)……IC(60)，然后分别计算IC(3)/IC(2)……IC(60)/IC(59)，最后求均值。为了方便起见，我们写两个函数来处理："
   ]
  },
  {
   "cell_type": "code",
   "execution_count": 13,
   "metadata": {},
   "outputs": [],
   "source": [
    "def cal_ic(rtn_predictor, n):\n",
    "    res = pd.Series((n), dtype=float)\n",
    "    for i in range(n):\n",
    "        res[i] = np.corrcoef(stock_active_rtn.shift(-i - 1).fillna(0.0).values.reshape(stock_active_rtn.size), rtn_predictor.values.reshape(rtn_predictor.size))[0,1]\n",
    "    res.plot()\n",
    "    plt.show()\n",
    "    return res\n",
    "\n",
    "def cal_ac(rtn_predictor):\n",
    "    ic = cal_ic(rtn_predictor, 60)\n",
    "    ac = ic / ic.shift()\n",
    "    ac.plot(kind='bar')\n",
    "    plt.show()\n",
    "    return ac.mean()"
   ]
  },
  {
   "cell_type": "code",
   "execution_count": 14,
   "metadata": {},
   "outputs": [
    {
     "data": {
      "image/png": "[encoded data removed]",
      "text/plain": [
       "<Figure size 432x288 with 1 Axes>"
      ]
     },
     "metadata": {
      "needs_background": "light"
     },
     "output_type": "display_data"
    },
    {
     "data": {
      "image/png": "[encoded data removed]",
      "text/plain": [
       "<Figure size 432x288 with 1 Axes>"
      ]
     },
     "metadata": {
      "needs_background": "light"
     },
     "output_type": "display_data"
    },
    {
     "data": {
      "image/png": "[encoded data removed]",
      "text/plain": [
       "<Figure size 432x288 with 1 Axes>"
      ]
     },
     "metadata": {
      "needs_background": "light"
     },
     "output_type": "display_data"
    },
    {
     "data": {
      "image/png": "[encoded data removed]",
      "text/plain": [
       "<Figure size 432x288 with 1 Axes>"
      ]
     },
     "metadata": {
      "needs_background": "light"
     },
     "output_type": "display_data"
    },
    {
     "name": "stdout",
     "output_type": "stream",
     "text": [
      "衰减系数 ac =  0.5248905958303424 1.5822331733487438\n"
     ]
    }
   ],
   "source": [
    "ac_r3s = cal_ac(rtn_predictor_r3s)\n",
    "ac_ma = cal_ac(rtn_predictor_ma)\n",
    "print(\"衰减系数 ac = \", ac_r3s, ac_ma)"
   ]
  },
  {
   "cell_type": "markdown",
   "metadata": {},
   "source": [
    "我们可以看到，衰减系数的估计，并不很准确。这与我们用的方法较为简单有关。\n",
    "在这个问题上，尚有很多改进方案，读者也可以好好想一想。\n",
    "\n",
    "一个可能的改进方案是：既然我们假设IC按指数衰减，那么，我们可以求log(IC(n))，这样，可以把指数衰减变为线性衰减。\n",
    "然后，我们可以通过回归的方式，得到衰减系数。\n",
    "\n",
    "另外，充足的数据量，也是精确计算衰减系数的保证。而且，我们现在是在日尺度上计算衰减系数，如果我们按月尺度计算，然后再折算到日上面，应该会有更好的结果。我们把这里的改进方案作为我们的课堂联系，由读者来完成。"
   ]
  },
  {
   "cell_type": "code",
   "execution_count": 15,
   "metadata": {},
   "outputs": [],
   "source": [
    "#改进衰减系数的计算方法。"
   ]
  },
  {
   "cell_type": "markdown",
   "metadata": {},
   "source": [
    "### 5.2.3 步骤三：分别在时间尺度上混合前述信号\n",
    "\n",
    "根据公式\n",
    "$$s^\\star(0) = s(0) - \\rho \\cdot s(-\\Delta t) + \\delta \\cdot s^\\star(-\\Delta t)$$\n",
    "我们可以在时间尺度上混合前述信号："
   ]
  },
  {
   "cell_type": "code",
   "execution_count": 16,
   "metadata": {},
   "outputs": [
    {
     "name": "stdout",
     "output_type": "stream",
     "text": [
      "红三兵混合信号：\n",
      "              600000    600016        600019    600028    600029    600030  \\\n",
      "date                                                                         \n",
      "2017-12-25  0.000026  0.000332  7.023905e-09  0.022020  0.008063  0.002331   \n",
      "2017-12-26  0.001349  0.000174  5.792962e-03  0.023147  0.000192  0.000039   \n",
      "2017-12-27  0.003660  0.004941  1.426570e-02  0.012318  0.000101  0.000020   \n",
      "2017-12-28  0.000715  0.004585  1.448455e-02  0.021177  0.000053  0.002667   \n",
      "2017-12-29  0.001041  0.000131  4.780801e-03  0.004487  0.005575  0.000046   \n",
      "\n",
      "              600036        600048        600050    600104  ...    601766  \\\n",
      "date                                                        ...             \n",
      "2017-12-25  0.005222  1.828656e-08  6.573255e-07  0.024369  ...  0.001140   \n",
      "2017-12-26  0.000286  9.598444e-09  3.450240e-07  0.000748  ...  0.000373   \n",
      "2017-12-27  0.000150  5.038133e-09  1.810998e-07  0.000393  ...  0.000196   \n",
      "2017-12-28  0.000079  1.598985e-03  9.505760e-08  0.000206  ...  0.000103   \n",
      "2017-12-29  0.000041  2.422325e-05  4.989484e-08  0.000108  ...  0.000054   \n",
      "\n",
      "              601800    601818    601857    601888    601939    601988  \\\n",
      "date                                                                     \n",
      "2017-12-25  0.000317  0.000016  0.016760  0.006024  0.000143  0.000053   \n",
      "2017-12-26  0.000166  0.000008  0.016636  0.000468  0.000075  0.004680   \n",
      "2017-12-27  0.000087  0.009490  0.010455  0.000245  0.002260  0.006289   \n",
      "2017-12-28  0.000046  0.009238  0.012126  0.000129  0.005420  0.006770   \n",
      "2017-12-29  0.000024  0.000214  0.003445  0.000068  0.000110  0.005650   \n",
      "\n",
      "                  601989  603259    603993  \n",
      "date                                        \n",
      "2017-12-25  3.278498e-06     0.0  0.000437  \n",
      "2017-12-26  1.720853e-06     0.0  0.000007  \n",
      "2017-12-27  9.032595e-07     0.0  0.000004  \n",
      "2017-12-28  4.741124e-07     0.0  0.000002  \n",
      "2017-12-29  2.488572e-07     0.0  0.000001  \n",
      "\n",
      "[5 rows x 50 columns]\n",
      "动量混合信号：\n",
      "                  600000        600016        600019        600028  \\\n",
      "date                                                                 \n",
      "2017-12-25  2.619097e+44 -2.421700e+44  1.607421e+45  3.083210e+44   \n",
      "2017-12-26  4.144022e+44 -3.831695e+44  2.543315e+45  4.878357e+44   \n",
      "2017-12-27  6.556808e+44 -6.062634e+44  4.024117e+45  7.718698e+44   \n",
      "2017-12-28  1.037440e+45 -9.592501e+44  6.367091e+45  1.221278e+45   \n",
      "2017-12-29  1.641472e+45 -1.517757e+45  1.007422e+46  1.932347e+45   \n",
      "\n",
      "                  600029        600030        600036        600048  \\\n",
      "date                                                                 \n",
      "2017-12-25 -1.109918e+45 -5.799658e+44  1.605760e+45 -9.682245e+44   \n",
      "2017-12-26 -1.756148e+45 -9.176412e+44  2.540688e+45 -1.531957e+45   \n",
      "2017-12-27 -2.778636e+45 -1.451922e+45  4.019960e+45 -2.423913e+45   \n",
      "2017-12-28 -4.396451e+45 -2.297280e+45  6.360514e+45 -3.835196e+45   \n",
      "2017-12-29 -6.956210e+45 -3.634832e+45  1.006382e+46 -6.068174e+45   \n",
      "\n",
      "                  600050        600104  ...        601766        601800  \\\n",
      "date                                    ...                               \n",
      "2017-12-25 -3.752822e+45  2.584510e+45  ... -1.785493e+45  1.274287e+45   \n",
      "2017-12-26 -5.937839e+45  4.089298e+45  ... -2.825066e+45  2.016220e+45   \n",
      "2017-12-27 -9.395046e+45  6.470222e+45  ... -4.469913e+45  3.190130e+45   \n",
      "2017-12-28 -1.486515e+46  1.023740e+46  ... -7.072444e+45  5.047529e+45   \n",
      "2017-12-29 -2.352014e+46  1.619795e+46  ... -1.119026e+46  7.986369e+45   \n",
      "\n",
      "                  601818        601857        601888        601939  \\\n",
      "date                                                                 \n",
      "2017-12-25  1.953467e+44  1.335009e+45  8.440219e+44  6.607082e+44   \n",
      "2017-12-26  3.090840e+44  2.112296e+45  1.335439e+45  1.045394e+45   \n",
      "2017-12-27  4.890429e+44  3.342144e+45  2.112977e+45  1.654058e+45   \n",
      "2017-12-28  7.737799e+44  5.288051e+45  3.343222e+45  2.617105e+45   \n",
      "2017-12-29  1.224300e+45  8.366930e+45  5.289756e+45  4.140870e+45   \n",
      "\n",
      "                  601988        601989        603259        603993  \n",
      "date                                                                \n",
      "2017-12-25  4.504413e+44 -2.219961e+45 -1.502157e+45  1.253516e+45  \n",
      "2017-12-26  7.127031e+44 -3.512496e+45 -2.376763e+45  1.983355e+45  \n",
      "2017-12-27  1.127663e+45 -5.557587e+45 -3.760593e+45  3.138130e+45  \n",
      "2017-12-28  1.784225e+45 -8.793399e+45 -5.950135e+45  4.965253e+45  \n",
      "2017-12-29  2.823060e+45 -1.391321e+46 -9.414500e+45  7.856188e+45  \n",
      "\n",
      "[5 rows x 50 columns]\n"
     ]
    }
   ],
   "source": [
    "def cal_mix_predictor(rtn_predictor, rho, delta):\n",
    "    res = rtn_predictor.copy()\n",
    "    for i in range(1, len(res)):\n",
    "        res.iloc[i, :] = rtn_predictor.iloc[i, :] - rho * rtn_predictor.iloc[i - 1, :] + delta * res.iloc[i - 1, :]\n",
    "    return res\n",
    "\n",
    "rtn_mix_predictor_r3s = cal_mix_predictor(rtn_predictor_r3s, acf_r3s, ac_r3s)\n",
    "rtn_mix_predictor_ma = cal_mix_predictor(rtn_predictor_ma, acf_ma, ac_ma)\n",
    "\n",
    "print(\"红三兵混合信号：\")\n",
    "print(rtn_mix_predictor_r3s.tail())\n",
    "print(\"动量混合信号：\")\n",
    "print(rtn_mix_predictor_ma.tail())"
   ]
  },
  {
   "cell_type": "markdown",
   "metadata": {},
   "source": [
    "### 5.2.4 步骤四：重新计算混合信号的IC和$\\alpha$\n",
    "\n",
    "信号在时间尺度上混合后，再计算IC时，会有变化，理论上应该更大一点。我们通过函数来计算一下："
   ]
  },
  {
   "cell_type": "code",
   "execution_count": 17,
   "metadata": {},
   "outputs": [
    {
     "data": {
      "image/png": "[encoded data removed]",
      "text/plain": [
       "<Figure size 432x288 with 1 Axes>"
      ]
     },
     "metadata": {
      "needs_background": "light"
     },
     "output_type": "display_data"
    },
    {
     "data": {
      "image/png": "[encoded data removed]",
      "text/plain": [
       "<Figure size 432x288 with 1 Axes>"
      ]
     },
     "metadata": {
      "needs_background": "light"
     },
     "output_type": "display_data"
    },
    {
     "name": "stdout",
     "output_type": "stream",
     "text": [
      "0.022843815324252673 0.002919798342882009\n"
     ]
    }
   ],
   "source": [
    "ic_mix_r3s = cal_ic(rtn_mix_predictor_r3s, 60)[0]\n",
    "ic_mix_ma = cal_ic(rtn_mix_predictor_ma, 60)[0]\n",
    "print(ic_mix_r3s, ic_mix_ma)"
   ]
  },
  {
   "cell_type": "markdown",
   "metadata": {},
   "source": [
    "可以看出IC的计算，也不太稳定，这也是跟算法有关，读者可以试着改进其算法。\n",
    "\n",
    "下面我们用混合后的信号来计算精炼预测，我们先从“红三兵”开始，我们使用基于时间序列数据的方法来计算："
   ]
  },
  {
   "cell_type": "code",
   "execution_count": 18,
   "metadata": {},
   "outputs": [
    {
     "name": "stdout",
     "output_type": "stream",
     "text": [
      "                  600000    600016        600019    600028    600029  \\\n",
      "date                                                                   \n",
      "2017-12-25  5.389632e-07  0.000006  3.141293e-10  0.000539  0.000340   \n",
      "2017-12-26  2.825138e-05  0.000003  2.590780e-04  0.000566  0.000008   \n",
      "2017-12-27  7.667985e-05  0.000087  6.380031e-04  0.000301  0.000004   \n",
      "2017-12-28  1.498206e-05  0.000081  6.477908e-04  0.000518  0.000002   \n",
      "2017-12-29  2.181593e-05  0.000002  2.138112e-04  0.000110  0.000235   \n",
      "\n",
      "                  600030    600036        600048        600050    600104  ...  \\\n",
      "date                                                                      ...   \n",
      "2017-12-25  6.022115e-05  0.000156  7.788745e-10  3.193521e-08  0.000793  ...   \n",
      "2017-12-26  9.957421e-07  0.000009  4.088239e-10  1.676249e-08  0.000024  ...   \n",
      "2017-12-27  5.226557e-07  0.000004  2.145878e-10  8.798474e-09  0.000013  ...   \n",
      "2017-12-28  6.891615e-05  0.000002  6.810514e-05  4.618236e-09  0.000007  ...   \n",
      "2017-12-29  1.183803e-06  0.000001  1.031734e-06  2.424069e-09  0.000004  ...   \n",
      "\n",
      "              601766        601800        601818    601857    601888  \\\n",
      "date                                                                   \n",
      "2017-12-25  0.000038  1.285467e-05  2.810284e-07  0.000371  0.000322   \n",
      "2017-12-26  0.000012  6.747297e-06  1.475091e-07  0.000368  0.000025   \n",
      "2017-12-27  0.000006  3.541593e-06  1.646950e-04  0.000231  0.000013   \n",
      "2017-12-28  0.000003  1.858949e-06  1.603326e-04  0.000268  0.000007   \n",
      "2017-12-29  0.000002  9.757446e-07  3.720613e-06  0.000076  0.000004   \n",
      "\n",
      "              601939    601988        601989  603259        603993  \n",
      "date                                                                \n",
      "2017-12-25  0.000003  0.000001  1.104165e-07     0.0  3.664276e-05  \n",
      "2017-12-26  0.000002  0.000095  5.795656e-08     0.0  5.965089e-07  \n",
      "2017-12-27  0.000054  0.000128  3.042085e-08     0.0  3.131019e-07  \n",
      "2017-12-28  0.000129  0.000137  1.596762e-08     0.0  1.643442e-07  \n",
      "2017-12-29  0.000003  0.000115  8.381254e-09     0.0  8.626275e-08  \n",
      "\n",
      "[5 rows x 50 columns]\n"
     ]
    }
   ],
   "source": [
    "def cal_ts_alpha(rtn_predictor, ic):\n",
    "    z = rtn_predictor / rtn_predictor.values.std()\n",
    "    return np.repeat(np.array(stock_active_rtn_std).reshape(1, stock_rtn.columns.size), len(stock_rtn), axis=0) * ic * z\n",
    "\n",
    "alpha_mix_r3s = cal_ts_alpha(rtn_mix_predictor_r3s, ic_mix_r3s)\n",
    "print(alpha_mix_r3s.tail())"
   ]
  },
  {
   "cell_type": "markdown",
   "metadata": {},
   "source": [
    "接下来，我们计算动量信号，我们需要使用基于截面数据的算法来计算："
   ]
  },
  {
   "cell_type": "code",
   "execution_count": 19,
   "metadata": {},
   "outputs": [
    {
     "name": "stdout",
     "output_type": "stream",
     "text": [
      "              600000    600016    600019    600028    600029    600030  \\\n",
      "date                                                                     \n",
      "2017-12-25  0.000007 -0.000006  0.000042  0.000008 -0.000029 -0.000015   \n",
      "2017-12-26  0.000007 -0.000006  0.000042  0.000008 -0.000029 -0.000015   \n",
      "2017-12-27  0.000007 -0.000006  0.000042  0.000008 -0.000029 -0.000015   \n",
      "2017-12-28  0.000007 -0.000006  0.000042  0.000008 -0.000029 -0.000015   \n",
      "2017-12-29  0.000007 -0.000006  0.000042  0.000008 -0.000029 -0.000015   \n",
      "\n",
      "              600036    600048    600050    600104  ...    601766    601800  \\\n",
      "date                                                ...                       \n",
      "2017-12-25  0.000042 -0.000025 -0.000097  0.000067  ... -0.000046  0.000033   \n",
      "2017-12-26  0.000042 -0.000025 -0.000097  0.000067  ... -0.000046  0.000033   \n",
      "2017-12-27  0.000042 -0.000025 -0.000097  0.000067  ... -0.000046  0.000033   \n",
      "2017-12-28  0.000042 -0.000025 -0.000097  0.000067  ... -0.000046  0.000033   \n",
      "2017-12-29  0.000042 -0.000025 -0.000097  0.000067  ... -0.000046  0.000033   \n",
      "\n",
      "              601818    601857    601888    601939    601988    601989  \\\n",
      "date                                                                     \n",
      "2017-12-25  0.000005  0.000035  0.000022  0.000017  0.000012 -0.000057   \n",
      "2017-12-26  0.000005  0.000035  0.000022  0.000017  0.000012 -0.000057   \n",
      "2017-12-27  0.000005  0.000035  0.000022  0.000017  0.000012 -0.000057   \n",
      "2017-12-28  0.000005  0.000035  0.000022  0.000017  0.000012 -0.000057   \n",
      "2017-12-29  0.000005  0.000035  0.000022  0.000017  0.000012 -0.000057   \n",
      "\n",
      "              603259    603993  \n",
      "date                            \n",
      "2017-12-25 -0.000039  0.000032  \n",
      "2017-12-26 -0.000039  0.000032  \n",
      "2017-12-27 -0.000039  0.000032  \n",
      "2017-12-28 -0.000039  0.000032  \n",
      "2017-12-29 -0.000039  0.000032  \n",
      "\n",
      "[5 rows x 50 columns]\n"
     ]
    }
   ],
   "source": [
    "def cal_cs_alpha(rtn_predictor, ic):\n",
    "    std_cs = rtn_predictor.std(axis = 1)\n",
    "    z = rtn_predictor.fillna(0.0) / np.repeat(std_cs.values.reshape(std_cs.size, 1), stock_list.size, axis=1)\n",
    "    z_omega = z / np.repeat(stock_active_rtn_std.values.reshape(1, stock_active_rtn_std.size), len(stock_active_rtn), axis=0)\n",
    "    c = z_omega.fillna(0.0).values.std()\n",
    "    return ic / c * z\n",
    "\n",
    "alpha_mix_ma = cal_cs_alpha(rtn_mix_predictor_ma, ic_mix_ma)\n",
    "print(alpha_mix_ma.tail())"
   ]
  },
  {
   "cell_type": "markdown",
   "metadata": {},
   "source": [
    "## 5.3 延伸阅读——另类信号\n",
    "\n",
    "我们在精炼信号的过程中，用到了比较复杂的方法。尽管复杂，但终归是线性的方法。\n",
    "然而，我们其实也知道，线性的方法在刻画现实上，往往是很无力的。\n",
    "那么，非线性的方法能否应用进来呢？\n",
    "\n",
    "事实上，确实有很多人尝试了很多非线性的方法，也找到了一些不错的方法，我们将简介于此。\n",
    "然而，我们要注意的是，在真正的基金中，非线性方法的实践是非常罕见的。\n",
    "因为，对大部分基金经理而言，委托代理风险比市场风险更重要——\n",
    "1. 如果非线性方法赚钱了，客户不会觉得基金经理有多厉害，他会觉得这是基金经理应该具有的能力；\n",
    "2. 如果非线性方法亏钱了，客户会认为是基金经理的错。\n",
    "所以，对于基金经理而言，保守而禁得起推敲的方法更受欢迎。\n",
    "\n",
    "下面，我们还是介绍一些非线性方法：\n",
    "\n",
    "### 5.3.1 时间序列分析\n",
    "\n",
    "这是一个自成体系的世界，它有一套自己的术语和记号。它的经典模型有AR，MA，ARMA，ARIMA，VARMA等等。\n",
    "这些都是线性模型，但也可以加入非线性的方法。根据笔者自身的体验，这类模型用处并不大。\n",
    "\n",
    "### 5.3.2 ARCH、GARCH模型\n",
    "\n",
    "它们脱胎于时间序列分析，常用于波动率的预测。相比于其它模型，它们对波动率的预测还是比较准确的，也在下一章要讲的风险预测模型中有一席之地。\n",
    "在期权策略中，它们也得到了更广泛而深入的研究和实践。\n",
    "\n",
    "### 5.3.3 Kalman滤波\n",
    "\n",
    "它也脱胎于时间序列分析，它与贝叶斯分析联系也很密切。不过，它的工作流程常常被电子工程/最优控制等领域的术语所掩盖。\n",
    "这给我们对它的理解增加了障碍，使它显得晦涩难懂。不过，它的思想还是很有可取之处的。\n",
    "\n",
    "### 5.3.4 混沌\n",
    "\n",
    "混沌理论关注不稳定现象和非线性现象。它希望能区分完全随机现象和有某种确定的但高度非线性的方式产生的可预测现象（伪随机）；因为二者看起来实在太像了。利用混沌来处理信号的核心在于升维，一个好的升维方式可以使我们更容易的找到规律。但怎样找到合适的升维方式，和怎样找到一个线性预测因子同样艰难。\n",
    "\n",
    "### 5.3.5 遗传算法\n",
    "\n",
    "它有一个非常直观的理解，即模拟生物进化的过程。当一套参数的绩效表现得不好时，它就被淘汰；当一套参数得绩效表现得好时，我们允许它留下更多后代——即在它附近生成更多套参数。这种试错得方法看起来能得到最优得参数。但实践中，它并不总能收敛，即使收敛，也并不总能在可接受的时间内得出结果。而且，它也比较依赖初值的选取。\n",
    "\n",
    "### 5.3.6 神经网络\n",
    "\n",
    "这是近期非常火的领域，可惜，它最多的应用还是在于图像识别等信噪比高的领域。在低信噪比的金融数据中，尚未发现它能有所建树。它最早发轫于20世纪六七十年代，当时由于算力不够，只能研究浅层神经网络，应用也比较局限。后来，在八十年代，BP算法的发明解决了一部分问题，使计算机能快速计算这类问题了，于是，浅层神经网络得到了一次大发展。但深层神经网络依然未被攻破。至本世纪初，多伦多大学的Hinton，结合了非监督学习的方法，发明了深层神经网络的优化方法。这就被称为深度学习。这开创了神经网络的又一波研究高潮，各种算法层出不穷，深度学习能解决的问题也飞速增加。也有很多人尝试将其用于信号的挖掘，不过，尚未发现有很好的应用。相信在不久的将来，它会给投资领域带来革命。"
   ]
  }
 ],
 "metadata": {
  "kernelspec": {
   "display_name": "Python 3",
   "language": "python",
   "name": "python3"
  },
  "language_info": {
   "codemirror_mode": {
    "name": "ipython",
    "version": 3
   },
   "file_extension": ".py",
   "mimetype": "text/x-python",
   "name": "python",
   "nbconvert_exporter": "python",
   "pygments_lexer": "ipython3",
   "version": "3.7.1"
  }
 },
 "nbformat": 4,
 "nbformat_minor": 2
}
